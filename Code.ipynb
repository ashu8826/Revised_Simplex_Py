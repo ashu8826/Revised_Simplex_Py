{
 "cells": [
  {
   "cell_type": "markdown",
   "metadata": {},
   "source": [
    "### Revised Simplex Algorithm for Maximization Problem."
   ]
  },
  {
   "cell_type": "code",
   "execution_count": 101,
   "metadata": {
    "collapsed": true
   },
   "outputs": [],
   "source": [
    "import numpy as np\n",
    "import sys"
   ]
  },
  {
   "cell_type": "code",
   "execution_count": 102,
   "metadata": {
    "collapsed": true
   },
   "outputs": [],
   "source": [
    "# A transpose\n",
    "A = [[1,2,1], #A_0 or P_1\n",
    "     [1,3,5], #A_1 or P_2\n",
    "     [1,0,0], #A_2 or P_3\n",
    "     [0,1,0], #A_3 or P_4\n",
    "     [0,0,1]] #A_4 or P_5\n",
    "m=3\n",
    "c = [6,8,0,0,0]\n",
    "b = [10,25,35]  #m=3 because of 3 equality constraints\n",
    "I = [2,3,4] #index of A matrix which forms the basis matrix i.e index of basic variable\n",
    "I_ = [0,1]  #index of non-basic variable\n",
    "x = [0,0,10,25,35]  #primal answer\n",
    "y = [0,0,0]  #dual answer\n",
    "obj = 0 #objective function value\n",
    "E=[[1,0,0,0]] #Eo each element of E will be a eta mat with m+1 element. last elem of eta stores the position of non-identity col.\n",
    "exit_index = 0\n",
    "enter_index = 0\n",
    "e_index = 0\n",
    "pbar = [0,0,0] #m=3"
   ]
  },
  {
   "cell_type": "code",
   "execution_count": 103,
   "metadata": {
    "collapsed": true
   },
   "outputs": [],
   "source": [
    "def cal_coeff(index): #index of non-basic variable\n",
    "    return c[index] - np.dot(y,np.transpose(A[index]))\n",
    "\n",
    "# reverse subsitution (backward direction)\n",
    "def p_solve(e,p): \n",
    "    pt = [0]*len(p)\n",
    "    pt[e[-1]] = p[e[-1]]/e[e[-1]]\n",
    "    for i in [x for x in range(len(p)) if x != e[-1]]:\n",
    "        pt[i] = p[i] - e[i]*pt[e[-1]]\n",
    "    return pt\n",
    "\n",
    "def cal_pbar(p):\n",
    "    pt = p\n",
    "    for ei in E:\n",
    "        pt = p_solve(ei,pt)\n",
    "    return pt\n",
    "\n",
    "def y_solve(e,cb):\n",
    "    yt = cb\n",
    "    s = 0\n",
    "    for i in [x for x in range(len(cb)) if x != e[-1]]:\n",
    "        s = s + yt[i]*e[i]\n",
    "    yt[e[-1]] = (cb[e[-1]] - s)/e[e[-1]]\n",
    "    return yt\n",
    "\n",
    "def cal_y(cb):\n",
    "    yt = cb\n",
    "    for e in reversed(E):\n",
    "        yt = y_solve(e,yt)\n",
    "    return yt\n",
    "\n",
    "def cal_obj(x):\n",
    "    return np.dot(x,c)\n",
    "\n",
    "def cal_dual_obj(y):\n",
    "    return np.dot(y,b)"
   ]
  },
  {
   "cell_type": "code",
   "execution_count": 104,
   "metadata": {
    "collapsed": false
   },
   "outputs": [
    {
     "name": "stdout",
     "output_type": "stream",
     "text": [
      "6\n",
      "8\n",
      "56.0 56.0\n",
      "4.4\n",
      "-1.6\n",
      "68.5714285714 68.5714285714\n",
      "-3.14285714286\n",
      "0.285714285714\n",
      "70.0 70.0\n",
      "-2.0\n",
      "-2.0\n"
     ]
    }
   ],
   "source": [
    "while(True):\n",
    "    maximum = -1 #anti cycling using maximum coefficient rule and Bland Rule.\n",
    "    for i in I_:\n",
    "        coeff = cal_coeff(i)\n",
    "        if(coeff>maximum and coeff>0):  #greater than to enforce Bland's rule for anticycling in degenerate cases\n",
    "            maximum = coeff\n",
    "            enter_index = i\n",
    "    if(maximum == -1):\n",
    "        break #stop the simplex, objective achieved\n",
    "        \n",
    "\n",
    "    pbar = cal_pbar(A[enter_index])\n",
    "    #if all p are -ve then stop. problem is unbounded check it in the video.\n",
    "\n",
    "    theta = sys.maxsize #have to be positive\n",
    "    for i in range(m):\n",
    "        th = x[I[i]]/pbar[i]\n",
    "        if(th < theta and th >0):\n",
    "            theta = th\n",
    "            exit_index = I[i]\n",
    "            e_index = i\n",
    "\n",
    "    x[enter_index] = theta\n",
    "    for i in range(m):\n",
    "        x[I[i]] = x[I[i]] - pbar[i]*theta\n",
    "\n",
    "    e = [0]*(len(pbar)+1)\n",
    "    e[-1] = e_index\n",
    "    for i in range(len(pbar)):\n",
    "        e[i] = pbar[i]\n",
    "    E.append(e)\n",
    "\n",
    "    exitIi = I.index(exit_index)\n",
    "    I[exitIi] = enter_index\n",
    "\n",
    "    entryI_i = I_.index(enter_index)\n",
    "    I_[entryI_i] = exit_index\n",
    "\n",
    "    obj = cal_obj(x)\n",
    "\n",
    "    #find the value of dual y\n",
    "    cb = [c[i] for i in I]\n",
    "    y = cal_y(cb)\n",
    "    print(obj, cal_dual_obj(y))"
   ]
  },
  {
   "cell_type": "code",
   "execution_count": 99,
   "metadata": {
    "collapsed": false
   },
   "outputs": [
    {
     "data": {
      "text/plain": [
       "[4.999999999999998,\n",
       " 5.000000000000002,\n",
       " 1.1102230246251565e-16,\n",
       " 0.0,\n",
       " 4.999999999999994]"
      ]
     },
     "execution_count": 99,
     "metadata": {},
     "output_type": "execute_result"
    }
   ],
   "source": [
    "x"
   ]
  },
  {
   "cell_type": "code",
   "execution_count": 100,
   "metadata": {
    "collapsed": false
   },
   "outputs": [
    {
     "data": {
      "text/plain": [
       "[2.000000000000001, 1.9999999999999993, 1.7763568394002506e-16]"
      ]
     },
     "execution_count": 100,
     "metadata": {},
     "output_type": "execute_result"
    }
   ],
   "source": [
    "y"
   ]
  },
  {
   "cell_type": "code",
   "execution_count": null,
   "metadata": {
    "collapsed": true
   },
   "outputs": [],
   "source": []
  }
 ],
 "metadata": {
  "anaconda-cloud": {},
  "kernelspec": {
   "display_name": "Python [default]",
   "language": "python",
   "name": "python3"
  },
  "language_info": {
   "codemirror_mode": {
    "name": "ipython",
    "version": 3
   },
   "file_extension": ".py",
   "mimetype": "text/x-python",
   "name": "python",
   "nbconvert_exporter": "python",
   "pygments_lexer": "ipython3",
   "version": "3.5.2"
  }
 },
 "nbformat": 4,
 "nbformat_minor": 2
}
